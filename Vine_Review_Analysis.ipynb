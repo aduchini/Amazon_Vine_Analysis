{
  "nbformat": 4,
  "nbformat_minor": 0,
  "metadata": {
    "colab": {
      "name": "Vine_Review_Analysis.ipynb",
      "provenance": [],
      "collapsed_sections": [],
      "include_colab_link": true
    },
    "kernelspec": {
      "name": "python3",
      "display_name": "Python 3"
    },
    "nteract": {
      "version": "0.12.3"
    },
    "language_info": {
      "name": "python"
    }
  },
  "cells": [
    {
      "cell_type": "markdown",
      "metadata": {
        "id": "view-in-github",
        "colab_type": "text"
      },
      "source": [
        "<a href=\"https://colab.research.google.com/github/aduchini/Amazon_Vine_Analysis/blob/main/Vine_Review_Analysis.ipynb\" target=\"_parent\"><img src=\"https://colab.research.google.com/assets/colab-badge.svg\" alt=\"Open In Colab\"/></a>"
      ]
    },
    {
      "cell_type": "code",
      "metadata": {
        "id": "V58rxea0HqSa",
        "colab": {
          "base_uri": "https://localhost:8080/"
        },
        "outputId": "e84a64a2-db41-45d4-9cad-485080904eb8"
      },
      "source": [
        "import os\n",
        "# Find the latest version of spark 3.0 from http://www.apache.org/dist/spark/ and enter as the spark version\n",
        "# For example:\n",
        "# spark_version = 'spark-3.0.3'\n",
        "spark_version = 'spark-3.0.3'\n",
        "os.environ['SPARK_VERSION']=spark_version\n",
        "\n",
        "# Install Spark and Java\n",
        "!apt-get update\n",
        "!apt-get install openjdk-11-jdk-headless -qq > /dev/null\n",
        "!wget -q http://www.apache.org/dist/spark/$SPARK_VERSION/$SPARK_VERSION-bin-hadoop2.7.tgz\n",
        "!tar xf $SPARK_VERSION-bin-hadoop2.7.tgz\n",
        "!pip install -q findspark\n",
        "\n",
        "# Set Environment Variables\n",
        "import os\n",
        "os.environ[\"JAVA_HOME\"] = \"/usr/lib/jvm/java-11-openjdk-amd64\"\n",
        "os.environ[\"SPARK_HOME\"] = f\"/content/{spark_version}-bin-hadoop2.7\"\n",
        "\n",
        "# Start a SparkSession\n",
        "import findspark\n",
        "findspark.init()"
      ],
      "execution_count": null,
      "outputs": [
        {
          "output_type": "stream",
          "name": "stdout",
          "text": [
            "\r0% [Working]\r            \rGet:1 https://cloud.r-project.org/bin/linux/ubuntu bionic-cran40/ InRelease [3,626 B]\n",
            "Ign:2 https://developer.download.nvidia.com/compute/cuda/repos/ubuntu1804/x86_64  InRelease\n",
            "Ign:3 https://developer.download.nvidia.com/compute/machine-learning/repos/ubuntu1804/x86_64  InRelease\n",
            "Get:4 https://developer.download.nvidia.com/compute/cuda/repos/ubuntu1804/x86_64  Release [696 B]\n",
            "Hit:5 https://developer.download.nvidia.com/compute/machine-learning/repos/ubuntu1804/x86_64  Release\n",
            "Get:6 https://developer.download.nvidia.com/compute/cuda/repos/ubuntu1804/x86_64  Release.gpg [836 B]\n",
            "Get:7 http://ppa.launchpad.net/c2d4u.team/c2d4u4.0+/ubuntu bionic InRelease [15.9 kB]\n",
            "Get:8 http://security.ubuntu.com/ubuntu bionic-security InRelease [88.7 kB]\n",
            "Hit:10 http://archive.ubuntu.com/ubuntu bionic InRelease\n",
            "Get:11 http://archive.ubuntu.com/ubuntu bionic-updates InRelease [88.7 kB]\n",
            "Hit:12 http://ppa.launchpad.net/cran/libgit2/ubuntu bionic InRelease\n",
            "Get:13 https://developer.download.nvidia.com/compute/cuda/repos/ubuntu1804/x86_64  Packages [917 kB]\n",
            "Get:14 http://ppa.launchpad.net/deadsnakes/ppa/ubuntu bionic InRelease [15.9 kB]\n",
            "Get:15 http://archive.ubuntu.com/ubuntu bionic-backports InRelease [74.6 kB]\n",
            "Get:16 http://ppa.launchpad.net/graphics-drivers/ppa/ubuntu bionic InRelease [21.3 kB]\n",
            "Get:17 http://security.ubuntu.com/ubuntu bionic-security/main amd64 Packages [2,564 kB]\n",
            "Get:18 http://ppa.launchpad.net/c2d4u.team/c2d4u4.0+/ubuntu bionic/main Sources [1,826 kB]\n",
            "Get:19 http://archive.ubuntu.com/ubuntu bionic-updates/multiverse amd64 Packages [29.0 kB]\n",
            "Get:20 http://archive.ubuntu.com/ubuntu bionic-updates/universe amd64 Packages [2,247 kB]\n",
            "Get:21 http://security.ubuntu.com/ubuntu bionic-security/restricted amd64 Packages [783 kB]\n",
            "Get:22 http://archive.ubuntu.com/ubuntu bionic-updates/restricted amd64 Packages [816 kB]\n",
            "Get:23 http://security.ubuntu.com/ubuntu bionic-security/universe amd64 Packages [1,468 kB]\n",
            "Get:24 http://archive.ubuntu.com/ubuntu bionic-updates/main amd64 Packages [3,004 kB]\n",
            "Get:25 http://security.ubuntu.com/ubuntu bionic-security/multiverse amd64 Packages [21.1 kB]\n",
            "Get:26 http://ppa.launchpad.net/c2d4u.team/c2d4u4.0+/ubuntu bionic/main amd64 Packages [936 kB]\n",
            "Get:27 http://ppa.launchpad.net/deadsnakes/ppa/ubuntu bionic/main amd64 Packages [45.3 kB]\n",
            "Get:28 http://ppa.launchpad.net/graphics-drivers/ppa/ubuntu bionic/main amd64 Packages [42.8 kB]\n",
            "Fetched 15.0 MB in 5s (3,017 kB/s)\n",
            "Reading package lists... Done\n"
          ]
        }
      ]
    },
    {
      "cell_type": "code",
      "metadata": {
        "id": "_xKwTpATHqSe",
        "colab": {
          "base_uri": "https://localhost:8080/"
        },
        "outputId": "0164100b-c513-42bc-d6f6-5b0060f2f205"
      },
      "source": [
        "# Download the Postgres driver that will allow Spark to interact with Postgres.\n",
        "!wget https://jdbc.postgresql.org/download/postgresql-42.2.16.jar"
      ],
      "execution_count": null,
      "outputs": [
        {
          "output_type": "stream",
          "name": "stdout",
          "text": [
            "--2022-02-14 07:03:59--  https://jdbc.postgresql.org/download/postgresql-42.2.16.jar\n",
            "Resolving jdbc.postgresql.org (jdbc.postgresql.org)... 72.32.157.228, 2001:4800:3e1:1::228\n",
            "Connecting to jdbc.postgresql.org (jdbc.postgresql.org)|72.32.157.228|:443... connected.\n",
            "HTTP request sent, awaiting response... 200 OK\n",
            "Length: 1002883 (979K) [application/java-archive]\n",
            "Saving to: ‘postgresql-42.2.16.jar’\n",
            "\n",
            "postgresql-42.2.16. 100%[===================>] 979.38K  4.83MB/s    in 0.2s    \n",
            "\n",
            "2022-02-14 07:03:59 (4.83 MB/s) - ‘postgresql-42.2.16.jar’ saved [1002883/1002883]\n",
            "\n"
          ]
        }
      ]
    },
    {
      "cell_type": "code",
      "metadata": {
        "id": "MMqDAjVS0KN9"
      },
      "source": [
        "from pyspark.sql import SparkSession\n",
        "spark = SparkSession.builder.appName(\"M16-Amazon-Challenge\").config(\"spark.driver.extraClassPath\",\"/content/postgresql-42.2.16.jar\").getOrCreate()"
      ],
      "execution_count": null,
      "outputs": []
    },
    {
      "cell_type": "markdown",
      "metadata": {
        "id": "cyBsySGuY-9V"
      },
      "source": [
        "### Load Amazon Data into Spark DataFrame"
      ]
    },
    {
      "cell_type": "code",
      "metadata": {
        "id": "CtCmBhQJY-9Z",
        "colab": {
          "base_uri": "https://localhost:8080/"
        },
        "outputId": "00fa3099-7c2a-4d08-ebe3-df38a4871e87"
      },
      "source": [
        "from pyspark import SparkFiles\n",
        "url = \"https://s3.amazonaws.com/amazon-reviews-pds/tsv/amazon_reviews_us_Digital_Video_Download_v1_00.tsv.gz\"\n",
        "spark.sparkContext.addFile(url)\n",
        "df = spark.read.option(\"encoding\", \"UTF-8\").csv(SparkFiles.get(\"\"), sep=\"\\t\", header=True, inferSchema=True)\n",
        "df.show()"
      ],
      "execution_count": null,
      "outputs": [
        {
          "output_type": "stream",
          "name": "stdout",
          "text": [
            "+-----------+-----------+--------------+----------+--------------+--------------------+--------------------+-----------+-------------+-----------+----+-----------------+--------------------+--------------------+-----------+\n",
            "|marketplace|customer_id|     review_id|product_id|product_parent|       product_title|    product_category|star_rating|helpful_votes|total_votes|vine|verified_purchase|     review_headline|         review_body|review_date|\n",
            "+-----------+-----------+--------------+----------+--------------+--------------------+--------------------+-----------+-------------+-----------+----+-----------------+--------------------+--------------------+-----------+\n",
            "|         US|   12190288|R3FU16928EP5TC|B00AYB1482|     668895143|Enlightened: Seas...|Digital_Video_Dow...|          5|            0|          0|   N|                Y|I loved it and I ...|I loved it and I ...| 2015-08-31|\n",
            "|         US|   30549954|R1IZHHS1MH3AQ4|B00KQD28OM|     246219280|             Vicious|Digital_Video_Dow...|          5|            0|          0|   N|                Y|As always it seem...|As always it seem...| 2015-08-31|\n",
            "|         US|   52895410| R52R85WC6TIAH|B01489L5LQ|     534732318|         After Words|Digital_Video_Dow...|          4|           17|         18|   N|                Y|      Charming movie|This movie isn't ...| 2015-08-31|\n",
            "|         US|   27072354| R7HOOYTVIB0DS|B008LOVIIK|     239012694|Masterpiece: Insp...|Digital_Video_Dow...|          5|            0|          0|   N|                Y|          Five Stars|excellant this is...| 2015-08-31|\n",
            "|         US|   26939022|R1XQ2N5CDOZGNX|B0094LZMT0|     535858974|   On The Waterfront|Digital_Video_Dow...|          5|            0|          0|   N|                Y|Brilliant film fr...|Brilliant film fr...| 2015-08-31|\n",
            "|         US|    4772040|R1HCST57W334KN|B0112OSOQE|      38517795|Rick and Morty Se...|Digital_Video_Dow...|          5|            5|          6|   N|                Y|Best show on TV r...|If you don't like...| 2015-08-31|\n",
            "|         US|   12910040|R32BUTYQS1ZJBQ|B000NPE5SA|     373323715|      Africa Screams|Digital_Video_Dow...|          4|            1|          1|   N|                Y|Very funny. A typ...|Very funny.  A ty...| 2015-08-31|\n",
            "|         US|   38805573|  RH4SXPL4L9QU|B00XWV4QXG|     633842417| Entourage: Season 7|Digital_Video_Dow...|          3|            0|          0|   N|                Y|it was not as goo...|Strange as it is,...| 2015-08-31|\n",
            "|         US|   37100714|R37INWIQA5YW8N|B00X8UKOUK|     666093513|Catastrophe - Sea...|Digital_Video_Dow...|          2|            0|          0|   N|                Y|           Two Stars|Funny shows! We l...| 2015-08-31|\n",
            "|         US|   41234409|R18GSVAAS3N8GX|B00OOKXTFU|     801680808|The Worricker Tri...|Digital_Video_Dow...|          3|            0|          0|   N|                Y|        A tad Stuffy|Well made. Great ...| 2015-08-31|\n",
            "|         US|   24698954|R2QCG0ZZOHYUOX|B00URDJ600|     174981485|Mr. Selfridge, Se...|Digital_Video_Dow...|          5|            0|          0|   N|                Y|This show is awes...|This show is awes...| 2015-08-31|\n",
            "|         US|   11956809|R2B1OCYMUVMS5C|B009JUZ5I4|     654293980|  Five Branded Women|Digital_Video_Dow...|          5|            0|          0|   N|                Y|A good perspectiv...|A good perspectiv...| 2015-08-31|\n",
            "|         US|   11763902|R131ZJWHK0XXY0|B00PSLQYWE|     156264553|Downton Abbey Sea...|Digital_Video_Dow...|          4|            0|          0|   N|                Y|this saga gets be...|this saga gets be...| 2015-08-31|\n",
            "|         US|   46765633| RY6RIUNL03N8M|B00LI1COYA|     714145608|    Extant, Season 1|Digital_Video_Dow...|          5|            0|          0|   N|                Y|          Five Stars|         Great show.| 2015-08-31|\n",
            "|         US|   12411752|R2SWNCCEH2HPM5|B01347T9O8|     331499516|            Casanova|Digital_Video_Dow...|          1|            0|          0|   N|                Y|            One Star|Not my kind of mo...| 2015-08-31|\n",
            "|         US|   14717869|R127KV8E8ZC5L4|B00EC7VQX2|     627579257|Boardwalk Empire ...|Digital_Video_Dow...|          1|            0|          1|   N|                Y|I would have give...|I would have give...| 2015-08-31|\n",
            "|         US|    7438246|R3GH9B8WLQVY5T|B014P64276|     120489454|      Reunion Part 2|Digital_Video_Dow...|          5|            0|          0|   N|                Y|          Five Stars|         I loved it.| 2015-08-31|\n",
            "|         US|   51636125|R3AEFW1YB46FAU|B00X8UKOUK|     666093513|Catastrophe - Sea...|Digital_Video_Dow...|          3|            0|          0|   N|                Y|I want to like it...|I want to like it...| 2015-08-31|\n",
            "|         US|   47856888|R1ZHHD1GTHGMNK|B005U9RM0W|     728197314|      Grimm Season 1|Digital_Video_Dow...|          4|            1|          1|   N|                Y|If you're a sucke...|If you're a sucke...| 2015-08-31|\n",
            "|         US|    9210752|R2BCH4XK5CIK50|B00X8UKOUK|     666093513|Catastrophe - Sea...|Digital_Video_Dow...|          5|            0|          0|   N|                Y|         Great show.|Well done!!  Grea...| 2015-08-31|\n",
            "+-----------+-----------+--------------+----------+--------------+--------------------+--------------------+-----------+-------------+-----------+----+-----------------+--------------------+--------------------+-----------+\n",
            "only showing top 20 rows\n",
            "\n"
          ]
        }
      ]
    },
    {
      "cell_type": "code",
      "metadata": {
        "id": "C8REmY1aY-9u"
      },
      "source": [
        "from pyspark.sql.functions import to_date\n",
        "# Read in the Review dataset as a DataFrame\n"
      ],
      "execution_count": null,
      "outputs": []
    },
    {
      "cell_type": "code",
      "metadata": {
        "id": "lzMmkdKmY--D",
        "colab": {
          "base_uri": "https://localhost:8080/"
        },
        "outputId": "e6d18d19-f61f-4b00-8f67-b297b8dd8b93"
      },
      "source": [
        "# Create the vine_table. DataFrame\n",
        "vine_df = df.select(['review_id', 'star_rating', 'helpful_votes', 'total_votes', 'vine', 'verified_purchase'])\n",
        "vine_df.show()"
      ],
      "execution_count": null,
      "outputs": [
        {
          "output_type": "stream",
          "name": "stdout",
          "text": [
            "+--------------+-----------+-------------+-----------+----+-----------------+\n",
            "|     review_id|star_rating|helpful_votes|total_votes|vine|verified_purchase|\n",
            "+--------------+-----------+-------------+-----------+----+-----------------+\n",
            "|R3FU16928EP5TC|          5|            0|          0|   N|                Y|\n",
            "|R1IZHHS1MH3AQ4|          5|            0|          0|   N|                Y|\n",
            "| R52R85WC6TIAH|          4|           17|         18|   N|                Y|\n",
            "| R7HOOYTVIB0DS|          5|            0|          0|   N|                Y|\n",
            "|R1XQ2N5CDOZGNX|          5|            0|          0|   N|                Y|\n",
            "|R1HCST57W334KN|          5|            5|          6|   N|                Y|\n",
            "|R32BUTYQS1ZJBQ|          4|            1|          1|   N|                Y|\n",
            "|  RH4SXPL4L9QU|          3|            0|          0|   N|                Y|\n",
            "|R37INWIQA5YW8N|          2|            0|          0|   N|                Y|\n",
            "|R18GSVAAS3N8GX|          3|            0|          0|   N|                Y|\n",
            "|R2QCG0ZZOHYUOX|          5|            0|          0|   N|                Y|\n",
            "|R2B1OCYMUVMS5C|          5|            0|          0|   N|                Y|\n",
            "|R131ZJWHK0XXY0|          4|            0|          0|   N|                Y|\n",
            "| RY6RIUNL03N8M|          5|            0|          0|   N|                Y|\n",
            "|R2SWNCCEH2HPM5|          1|            0|          0|   N|                Y|\n",
            "|R127KV8E8ZC5L4|          1|            0|          1|   N|                Y|\n",
            "|R3GH9B8WLQVY5T|          5|            0|          0|   N|                Y|\n",
            "|R3AEFW1YB46FAU|          3|            0|          0|   N|                Y|\n",
            "|R1ZHHD1GTHGMNK|          4|            1|          1|   N|                Y|\n",
            "|R2BCH4XK5CIK50|          5|            0|          0|   N|                Y|\n",
            "+--------------+-----------+-------------+-----------+----+-----------------+\n",
            "only showing top 20 rows\n",
            "\n"
          ]
        }
      ]
    },
    {
      "cell_type": "code",
      "metadata": {
        "id": "Exuo6ebUsCqW",
        "colab": {
          "base_uri": "https://localhost:8080/"
        },
        "outputId": "1984e7c4-ab1c-4e06-89bc-49f11a15f680"
      },
      "source": [
        "# Filtering rows with total_votes greater than or equal to 20\n",
        "filtered_df = vine_df.filter(vine_df.total_votes >= 20)\n",
        "filtered_df.show()"
      ],
      "execution_count": null,
      "outputs": [
        {
          "output_type": "stream",
          "name": "stdout",
          "text": [
            "+--------------+-----------+-------------+-----------+----+-----------------+\n",
            "|     review_id|star_rating|helpful_votes|total_votes|vine|verified_purchase|\n",
            "+--------------+-----------+-------------+-----------+----+-----------------+\n",
            "|R1CY3APKBOVUYU|          1|            9|         33|   N|                Y|\n",
            "|R2LTI28AN2281A|          1|            0|         22|   N|                Y|\n",
            "|R3PENXZQNYN29L|          1|            1|         26|   N|                Y|\n",
            "| R8IGXNWIBN7ZP|          1|            6|         20|   N|                Y|\n",
            "|R2P8B83Q61L4HS|          1|            0|         22|   N|                Y|\n",
            "| RZM83AGJAUZMA|          1|           32|         41|   N|                Y|\n",
            "|R257YW4XQLDH1M|          1|            6|         20|   N|                Y|\n",
            "|R12MYB9QM2YN8B|          1|           19|         23|   N|                N|\n",
            "| RGCY6WG37F810|          4|           24|         27|   N|                N|\n",
            "|R1TIDPK91S2IRQ|          1|            0|         25|   N|                Y|\n",
            "|R1WQ2C3EYOLKKH|          1|            1|         24|   N|                Y|\n",
            "|R1H9AEOAFUK08M|          1|            4|         23|   N|                Y|\n",
            "|R2UH0VN09DDQLA|          3|           23|         30|   N|                N|\n",
            "|R1E4W9ROP10WT3|          5|           19|         22|   N|                N|\n",
            "| RF2BLXZTUOL0M|          5|           23|         27|   N|                N|\n",
            "|R1NAOZ90FDXGEP|          1|            0|         21|   N|                Y|\n",
            "| R3R7Y4GU9QJYJ|          1|            1|         23|   N|                Y|\n",
            "| REMDS9V4J58OR|          4|           25|         29|   N|                Y|\n",
            "|R34CAWTWR5O2VN|          1|           18|         20|   N|                Y|\n",
            "|R1YC2273PREWG2|          1|            3|         32|   N|                Y|\n",
            "+--------------+-----------+-------------+-----------+----+-----------------+\n",
            "only showing top 20 rows\n",
            "\n"
          ]
        }
      ]
    },
    {
      "cell_type": "code",
      "source": [
        "# Filter where the helpful votes proportion is greater than 50%\n",
        "helpful_votes_df = filtered_df.filter(filtered_df.helpful_votes/filtered_df.total_votes >= 0.5)\n",
        "helpful_votes_df.show()"
      ],
      "metadata": {
        "colab": {
          "base_uri": "https://localhost:8080/"
        },
        "id": "wid61gGtDav3",
        "outputId": "3761f1c8-ffae-4f28-b502-b41563c63b18"
      },
      "execution_count": null,
      "outputs": [
        {
          "output_type": "stream",
          "name": "stdout",
          "text": [
            "+--------------+-----------+-------------+-----------+----+-----------------+\n",
            "|     review_id|star_rating|helpful_votes|total_votes|vine|verified_purchase|\n",
            "+--------------+-----------+-------------+-----------+----+-----------------+\n",
            "| RZM83AGJAUZMA|          1|           32|         41|   N|                Y|\n",
            "|R12MYB9QM2YN8B|          1|           19|         23|   N|                N|\n",
            "| RGCY6WG37F810|          4|           24|         27|   N|                N|\n",
            "|R2UH0VN09DDQLA|          3|           23|         30|   N|                N|\n",
            "|R1E4W9ROP10WT3|          5|           19|         22|   N|                N|\n",
            "| RF2BLXZTUOL0M|          5|           23|         27|   N|                N|\n",
            "| REMDS9V4J58OR|          4|           25|         29|   N|                Y|\n",
            "|R34CAWTWR5O2VN|          1|           18|         20|   N|                Y|\n",
            "|R2ISFKK57JF02V|          5|           25|         26|   N|                Y|\n",
            "|R3D8LNOI6ZPOFY|          5|           68|         72|   N|                Y|\n",
            "| RVR6HYB370XXD|          4|          110|        112|   N|                Y|\n",
            "| R9DSUA5QATKSB|          4|           18|         21|   N|                Y|\n",
            "|R1R6D5SQ0MJ4SD|          1|           24|         30|   N|                N|\n",
            "| RYWE9GFXNQMTM|          1|           30|         39|   N|                Y|\n",
            "| RF201POYVHGTC|          1|           18|         36|   N|                Y|\n",
            "|R1XWUCJLDCJHGL|          1|          120|        172|   N|                Y|\n",
            "|R1CO66W48MFQU3|          5|           39|         39|   N|                N|\n",
            "|R20AC6JU04WVCD|          4|           20|         28|   N|                N|\n",
            "|R2PH5ZW3C5IVIW|          2|           23|         32|   N|                Y|\n",
            "| RC9EIG7IT5X9O|          5|           63|         67|   N|                Y|\n",
            "+--------------+-----------+-------------+-----------+----+-----------------+\n",
            "only showing top 20 rows\n",
            "\n"
          ]
        }
      ]
    },
    {
      "cell_type": "code",
      "source": [
        "# Filter for reviews that have a written portion only\n",
        "written_reviews_df = helpful_votes_df.filter(helpful_votes_df.vine == \"Y\")\n",
        "written_reviews_df.show()"
      ],
      "metadata": {
        "colab": {
          "base_uri": "https://localhost:8080/"
        },
        "id": "bGRQgO0uECQz",
        "outputId": "377463eb-2977-4cf0-b693-abbbd7a6cd9e"
      },
      "execution_count": null,
      "outputs": [
        {
          "output_type": "stream",
          "name": "stdout",
          "text": [
            "+---------+-----------+-------------+-----------+----+-----------------+\n",
            "|review_id|star_rating|helpful_votes|total_votes|vine|verified_purchase|\n",
            "+---------+-----------+-------------+-----------+----+-----------------+\n",
            "+---------+-----------+-------------+-----------+----+-----------------+\n",
            "\n"
          ]
        }
      ]
    },
    {
      "cell_type": "code",
      "source": [
        "# Filter for reviews that have a written portion only\n",
        "no_written_reviews_df = helpful_votes_df.filter(helpful_votes_df.vine == \"N\")\n",
        "no_written_reviews_df.show()"
      ],
      "metadata": {
        "colab": {
          "base_uri": "https://localhost:8080/"
        },
        "id": "FoVq8apNEvqa",
        "outputId": "e91a4ed6-2504-4039-bfb6-9cb5b08707fb"
      },
      "execution_count": null,
      "outputs": [
        {
          "output_type": "stream",
          "name": "stdout",
          "text": [
            "+--------------+-----------+-------------+-----------+----+-----------------+\n",
            "|     review_id|star_rating|helpful_votes|total_votes|vine|verified_purchase|\n",
            "+--------------+-----------+-------------+-----------+----+-----------------+\n",
            "| RZM83AGJAUZMA|          1|           32|         41|   N|                Y|\n",
            "|R12MYB9QM2YN8B|          1|           19|         23|   N|                N|\n",
            "| RGCY6WG37F810|          4|           24|         27|   N|                N|\n",
            "|R2UH0VN09DDQLA|          3|           23|         30|   N|                N|\n",
            "|R1E4W9ROP10WT3|          5|           19|         22|   N|                N|\n",
            "| RF2BLXZTUOL0M|          5|           23|         27|   N|                N|\n",
            "| REMDS9V4J58OR|          4|           25|         29|   N|                Y|\n",
            "|R34CAWTWR5O2VN|          1|           18|         20|   N|                Y|\n",
            "|R2ISFKK57JF02V|          5|           25|         26|   N|                Y|\n",
            "|R3D8LNOI6ZPOFY|          5|           68|         72|   N|                Y|\n",
            "| RVR6HYB370XXD|          4|          110|        112|   N|                Y|\n",
            "| R9DSUA5QATKSB|          4|           18|         21|   N|                Y|\n",
            "|R1R6D5SQ0MJ4SD|          1|           24|         30|   N|                N|\n",
            "| RYWE9GFXNQMTM|          1|           30|         39|   N|                Y|\n",
            "| RF201POYVHGTC|          1|           18|         36|   N|                Y|\n",
            "|R1XWUCJLDCJHGL|          1|          120|        172|   N|                Y|\n",
            "|R1CO66W48MFQU3|          5|           39|         39|   N|                N|\n",
            "|R20AC6JU04WVCD|          4|           20|         28|   N|                N|\n",
            "|R2PH5ZW3C5IVIW|          2|           23|         32|   N|                Y|\n",
            "| RC9EIG7IT5X9O|          5|           63|         67|   N|                Y|\n",
            "+--------------+-----------+-------------+-----------+----+-----------------+\n",
            "only showing top 20 rows\n",
            "\n"
          ]
        }
      ]
    },
    {
      "cell_type": "code",
      "source": [
        "count_reviews = helpful_votes_df.count()\n",
        "count_written = written_reviews_df.count()\n",
        "count_no_written = no_written_reviews_df.count()\n",
        "count_no_written_5_star = no_written_reviews_df.filter(no_written_reviews_df.star_rating == 5).count()\n",
        "count_written_5_star = written_reviews_df.filter(written_reviews_df.star_rating == 5).count()\n",
        "percentage_no_written = 100 * count_no_written_5_star / (count_no_written_5_star + count_written_5_star)\n",
        "percentage_5_star = 100 * (count_no_written_5_star + count_written_5_star) / count_reviews\n",
        "print(f\"Total reviews: {count_reviews}\")\n",
        "print(f\"Total reviews from non-Vine members: {count_no_written}\")\n",
        "print(f\"Total reviews from Vine members: {count_written}\")\n",
        "print(f\"Total 5-star from non-Vine members: {count_no_written_5_star}\")\n",
        "print(f\"Total 5-star reviews from Vine members: {count_written_5_star}\")\n",
        "print(f\"Percentage of 5-star reviews from non-Vine members: {percentage_no_written}%\")\n",
        "print(f\"Percentage of 5-star reviews overall: {percentage_5_star}%\")\n"
      ],
      "metadata": {
        "colab": {
          "base_uri": "https://localhost:8080/"
        },
        "id": "cuRrkmPhFFQK",
        "outputId": "ea17dbd0-9aa8-49cf-df45-94d81508f77b"
      },
      "execution_count": 28,
      "outputs": [
        {
          "output_type": "stream",
          "name": "stdout",
          "text": [
            "Total reviews: 11371\n",
            "Total reviews from non-Vine members: 11371\n",
            "Total reviews from Vine members: 0\n",
            "Total 5-star from non-Vine members: 4675\n",
            "Total 5-star reviews from Vine members: 0\n",
            "Percentage of 5-star reviews from non-Vine members: 100.0%\n",
            "Percentage of 5-star reviews overall: 41.11335854366371%\n"
          ]
        }
      ]
    }
  ]
}